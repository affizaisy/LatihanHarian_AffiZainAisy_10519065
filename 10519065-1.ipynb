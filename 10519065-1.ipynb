{
 "cells": [
  {
   "cell_type": "code",
   "execution_count": 2,
   "id": "987699be",
   "metadata": {},
   "outputs": [
    {
     "name": "stdout",
     "output_type": "stream",
     "text": [
      "Mangga\n",
      "Apel\n",
      "Semangka\n",
      "melon\n"
     ]
    }
   ],
   "source": [
    "dlist=['Mangga','Apel','Semangka','melon']\n",
    "print(dlist[0])\n",
    "print(dlist[1])\n",
    "print(dlist[2])\n",
    "print(dlist[3])"
   ]
  },
  {
   "cell_type": "code",
   "execution_count": 3,
   "id": "ca74220f",
   "metadata": {},
   "outputs": [
    {
     "name": "stdout",
     "output_type": "stream",
     "text": [
      "Mangga\n",
      "Apel\n",
      "Semangka\n",
      "melon\n",
      "Mangga\n",
      "Apel\n",
      "Semangka\n",
      "melon\n"
     ]
    }
   ],
   "source": [
    "dlist=['Mangga','Apel','Semangka','melon']\n",
    "print(dlist[0])\n",
    "print(dlist[1])\n",
    "print(dlist[2])\n",
    "print(dlist[3])\n",
    "for x in dlist:\n",
    "    print(x)"
   ]
  },
  {
   "cell_type": "code",
   "execution_count": 4,
   "id": "b5d5bf5e",
   "metadata": {},
   "outputs": [
    {
     "name": "stdout",
     "output_type": "stream",
     "text": [
      " \n",
      "S\n",
      "e\n",
      "m\n",
      "a\n",
      "n\n",
      "g\n",
      "k\n",
      "a\n"
     ]
    }
   ],
   "source": [
    "for x in ' Semangka':\n",
    "    print (x)"
   ]
  },
  {
   "cell_type": "code",
   "execution_count": 5,
   "id": "e8fb69fa",
   "metadata": {},
   "outputs": [
    {
     "name": "stdout",
     "output_type": "stream",
     "text": [
      "(1, 2, 3)\n"
     ]
    }
   ],
   "source": [
    "xarr = [(1,2,3),(4,5,6)]\n",
    "print (xarr[0]) "
   ]
  },
  {
   "cell_type": "code",
   "execution_count": 6,
   "id": "972aa888",
   "metadata": {},
   "outputs": [
    {
     "name": "stdout",
     "output_type": "stream",
     "text": [
      "(1, 2, 3, 4, 5, 6, 7)\n"
     ]
    }
   ],
   "source": [
    "xarr = [(1,2,3,4,5,6,7),(8,9,10)]\n",
    "print (xarr[0]) "
   ]
  },
  {
   "cell_type": "code",
   "execution_count": 7,
   "id": "341b6ecb",
   "metadata": {},
   "outputs": [
    {
     "name": "stdout",
     "output_type": "stream",
     "text": [
      "((16, 17, 18), (19, 20, 21))\n",
      "((16, 17, 18), (19, 20, 21))\n",
      "(16, 17, 18)\n",
      "(10, 11, 12)\n",
      "(10, 11, 12)\n",
      "(19, 20, 21)\n"
     ]
    }
   ],
   "source": [
    "xa=[((10,11,12),(13,14,15)),((16,17,18),(19,20,21))]\n",
    "print (xa[1])\n",
    "print (xa[1])\n",
    "print (xa[1][0])\n",
    "print (xa[0][0])\n",
    "print (xa[0][0])\n",
    "print (xa[1][1])"
   ]
  },
  {
   "cell_type": "code",
   "execution_count": null,
   "id": "c8af2708",
   "metadata": {},
   "outputs": [],
   "source": []
  }
 ],
 "metadata": {
  "kernelspec": {
   "display_name": "Python 3 (ipykernel)",
   "language": "python",
   "name": "python3"
  },
  "language_info": {
   "codemirror_mode": {
    "name": "ipython",
    "version": 3
   },
   "file_extension": ".py",
   "mimetype": "text/x-python",
   "name": "python",
   "nbconvert_exporter": "python",
   "pygments_lexer": "ipython3",
   "version": "3.9.12"
  }
 },
 "nbformat": 4,
 "nbformat_minor": 5
}
